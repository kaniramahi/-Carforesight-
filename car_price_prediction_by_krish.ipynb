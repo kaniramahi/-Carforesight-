{
 "cells": [
  {
   "cell_type": "code",
   "execution_count": 505,
   "id": "b49c6e09",
   "metadata": {
    "id": "b49c6e09"
   },
   "outputs": [],
   "source": [
    "import numpy as np # mathemtaical computation\n",
    "# numpy is aliased as np\n",
    "import pandas as pd # data preprocessing\n",
    "# pandas is aliased as pd\n",
    "import matplotlib.pyplot as plt # visualization\n",
    "# pyplot is aliased as plt\n",
    "import seaborn as sns  # visualization\n",
    "# seaborn is aliased as sns\n",
    "import sklearn"
   ]
  },
  {
   "cell_type": "code",
   "execution_count": 506,
   "id": "d9d1a57d",
   "metadata": {
    "id": "d9d1a57d"
   },
   "outputs": [],
   "source": [
    "# Major Import\n",
    "import sklearn\n",
    "from sklearn.metrics import classification_report\n",
    "from sklearn.model_selection import train_test_split\n",
    "from imblearn.over_sampling import RandomOverSampler\n",
    "from sklearn.ensemble import RandomForestClassifier\n",
    "from sklearn.metrics import accuracy_score\n",
    "from sklearn.metrics import confusion_matrix, ConfusionMatrixDisplay\n",
    "from sklearn.pipeline import Pipeline\n",
    "from sklearn.metrics import accuracy_score, classification_report"
   ]
  },
  {
   "cell_type": "code",
   "execution_count": 507,
   "id": "d9f96598",
   "metadata": {
    "colab": {
     "base_uri": "https://localhost:8080/",
     "height": 206
    },
    "id": "d9f96598",
    "outputId": "d8c4ac17-014f-490f-bde0-5144a022306a"
   },
   "outputs": [
    {
     "data": {
      "text/html": [
       "<div>\n",
       "<style scoped>\n",
       "    .dataframe tbody tr th:only-of-type {\n",
       "        vertical-align: middle;\n",
       "    }\n",
       "\n",
       "    .dataframe tbody tr th {\n",
       "        vertical-align: top;\n",
       "    }\n",
       "\n",
       "    .dataframe thead th {\n",
       "        text-align: right;\n",
       "    }\n",
       "</style>\n",
       "<table border=\"1\" class=\"dataframe\">\n",
       "  <thead>\n",
       "    <tr style=\"text-align: right;\">\n",
       "      <th></th>\n",
       "      <th>name</th>\n",
       "      <th>Brand_name</th>\n",
       "      <th>year</th>\n",
       "      <th>selling_price</th>\n",
       "      <th>km_driven</th>\n",
       "      <th>fuel</th>\n",
       "      <th>seller_type</th>\n",
       "      <th>transmission</th>\n",
       "      <th>owner</th>\n",
       "    </tr>\n",
       "  </thead>\n",
       "  <tbody>\n",
       "    <tr>\n",
       "      <th>0</th>\n",
       "      <td>Maruti 800 AC</td>\n",
       "      <td>Maruti</td>\n",
       "      <td>2007</td>\n",
       "      <td>60000</td>\n",
       "      <td>70000</td>\n",
       "      <td>Petrol</td>\n",
       "      <td>Individual</td>\n",
       "      <td>Manual</td>\n",
       "      <td>First Owner</td>\n",
       "    </tr>\n",
       "    <tr>\n",
       "      <th>1</th>\n",
       "      <td>Maruti Wagon R LXI Minor</td>\n",
       "      <td>Maruti</td>\n",
       "      <td>2007</td>\n",
       "      <td>135000</td>\n",
       "      <td>50000</td>\n",
       "      <td>Petrol</td>\n",
       "      <td>Individual</td>\n",
       "      <td>Manual</td>\n",
       "      <td>First Owner</td>\n",
       "    </tr>\n",
       "    <tr>\n",
       "      <th>2</th>\n",
       "      <td>Hyundai Verna 1.6 SX</td>\n",
       "      <td>Hyundai</td>\n",
       "      <td>2012</td>\n",
       "      <td>600000</td>\n",
       "      <td>100000</td>\n",
       "      <td>Diesel</td>\n",
       "      <td>Individual</td>\n",
       "      <td>Manual</td>\n",
       "      <td>First Owner</td>\n",
       "    </tr>\n",
       "    <tr>\n",
       "      <th>3</th>\n",
       "      <td>Datsun RediGO T Option</td>\n",
       "      <td>Datsun</td>\n",
       "      <td>2017</td>\n",
       "      <td>250000</td>\n",
       "      <td>46000</td>\n",
       "      <td>Petrol</td>\n",
       "      <td>Individual</td>\n",
       "      <td>Manual</td>\n",
       "      <td>First Owner</td>\n",
       "    </tr>\n",
       "    <tr>\n",
       "      <th>4</th>\n",
       "      <td>Honda Amaze VX i-DTEC</td>\n",
       "      <td>Maruti</td>\n",
       "      <td>2007</td>\n",
       "      <td>140000</td>\n",
       "      <td>125000</td>\n",
       "      <td>Petrol</td>\n",
       "      <td>Individual</td>\n",
       "      <td>Manual</td>\n",
       "      <td>First Owner</td>\n",
       "    </tr>\n",
       "  </tbody>\n",
       "</table>\n",
       "</div>"
      ],
      "text/plain": [
       "                       name Brand_name  year  selling_price  km_driven  \\\n",
       "0             Maruti 800 AC     Maruti  2007          60000      70000   \n",
       "1  Maruti Wagon R LXI Minor     Maruti  2007         135000      50000   \n",
       "2      Hyundai Verna 1.6 SX    Hyundai  2012         600000     100000   \n",
       "3    Datsun RediGO T Option     Datsun  2017         250000      46000   \n",
       "4     Honda Amaze VX i-DTEC     Maruti  2007         140000     125000   \n",
       "\n",
       "     fuel seller_type transmission        owner  \n",
       "0  Petrol  Individual       Manual  First Owner  \n",
       "1  Petrol  Individual       Manual  First Owner  \n",
       "2  Diesel  Individual       Manual  First Owner  \n",
       "3  Petrol  Individual       Manual  First Owner  \n",
       "4  Petrol  Individual       Manual  First Owner  "
      ]
     },
     "execution_count": 507,
     "metadata": {},
     "output_type": "execute_result"
    }
   ],
   "source": [
    "df=pd.read_csv('CAR_DETAILS.csv')\n",
    "df.head()"
   ]
  },
  {
   "cell_type": "code",
   "execution_count": 508,
   "id": "fbf735fd",
   "metadata": {
    "colab": {
     "base_uri": "https://localhost:8080/"
    },
    "id": "fbf735fd",
    "outputId": "24ed8542-c27c-42fe-b085-1e89763d8eaa"
   },
   "outputs": [
    {
     "name": "stdout",
     "output_type": "stream",
     "text": [
      "<class 'pandas.core.frame.DataFrame'>\n",
      "RangeIndex: 4340 entries, 0 to 4339\n",
      "Data columns (total 9 columns):\n",
      " #   Column         Non-Null Count  Dtype \n",
      "---  ------         --------------  ----- \n",
      " 0   name           4340 non-null   object\n",
      " 1   Brand_name     4340 non-null   object\n",
      " 2   year           4340 non-null   int64 \n",
      " 3   selling_price  4340 non-null   int64 \n",
      " 4   km_driven      4340 non-null   int64 \n",
      " 5   fuel           4340 non-null   object\n",
      " 6   seller_type    4340 non-null   object\n",
      " 7   transmission   4340 non-null   object\n",
      " 8   owner          4340 non-null   object\n",
      "dtypes: int64(3), object(6)\n",
      "memory usage: 305.3+ KB\n"
     ]
    }
   ],
   "source": [
    "df.info()"
   ]
  },
  {
   "cell_type": "code",
   "execution_count": 509,
   "id": "8ea33f10",
   "metadata": {
    "colab": {
     "base_uri": "https://localhost:8080/"
    },
    "id": "8ea33f10",
    "outputId": "9dfc5c63-b9f2-4ac7-c87b-34a53b0f40c4"
   },
   "outputs": [
    {
     "data": {
      "text/plain": [
       "(4340, 9)"
      ]
     },
     "execution_count": 509,
     "metadata": {},
     "output_type": "execute_result"
    }
   ],
   "source": [
    "df.shape"
   ]
  },
  {
   "cell_type": "code",
   "execution_count": 510,
   "id": "ebbdd2e5",
   "metadata": {},
   "outputs": [
    {
     "data": {
      "text/plain": [
       "array(['Maruti', 'Hyundai', 'Datsun', 'Chevrolet', 'Toyota', 'Honda',\n",
       "       'Tata', 'Jaguar', 'Mercedes-Benz', 'Audi', 'Skoda', 'Jeep', 'BMW',\n",
       "       'Mahindra', 'Ford', 'Nissan', 'Renault', 'Fiat', 'Volkswagen',\n",
       "       'Volvo', 'Mitsubishi', 'Land', 'Daewoo', 'MG', 'Force', 'Isuzu',\n",
       "       'OpelCorsa', 'Ambassador', 'Kia'], dtype=object)"
      ]
     },
     "execution_count": 510,
     "metadata": {},
     "output_type": "execute_result"
    }
   ],
   "source": [
    "df['Brand_name'].unique()"
   ]
  },
  {
   "cell_type": "code",
   "execution_count": 511,
   "id": "ce210845",
   "metadata": {},
   "outputs": [
    {
     "data": {
      "text/html": [
       "<div>\n",
       "<style scoped>\n",
       "    .dataframe tbody tr th:only-of-type {\n",
       "        vertical-align: middle;\n",
       "    }\n",
       "\n",
       "    .dataframe tbody tr th {\n",
       "        vertical-align: top;\n",
       "    }\n",
       "\n",
       "    .dataframe thead th {\n",
       "        text-align: right;\n",
       "    }\n",
       "</style>\n",
       "<table border=\"1\" class=\"dataframe\">\n",
       "  <thead>\n",
       "    <tr style=\"text-align: right;\">\n",
       "      <th></th>\n",
       "      <th>year</th>\n",
       "      <th>selling_price</th>\n",
       "      <th>km_driven</th>\n",
       "    </tr>\n",
       "  </thead>\n",
       "  <tbody>\n",
       "    <tr>\n",
       "      <th>count</th>\n",
       "      <td>4340.000000</td>\n",
       "      <td>4.340000e+03</td>\n",
       "      <td>4340.000000</td>\n",
       "    </tr>\n",
       "    <tr>\n",
       "      <th>mean</th>\n",
       "      <td>2013.090783</td>\n",
       "      <td>5.041273e+05</td>\n",
       "      <td>66215.777419</td>\n",
       "    </tr>\n",
       "    <tr>\n",
       "      <th>std</th>\n",
       "      <td>4.215344</td>\n",
       "      <td>5.785487e+05</td>\n",
       "      <td>46644.102194</td>\n",
       "    </tr>\n",
       "    <tr>\n",
       "      <th>min</th>\n",
       "      <td>1992.000000</td>\n",
       "      <td>2.000000e+04</td>\n",
       "      <td>1.000000</td>\n",
       "    </tr>\n",
       "    <tr>\n",
       "      <th>25%</th>\n",
       "      <td>2011.000000</td>\n",
       "      <td>2.087498e+05</td>\n",
       "      <td>35000.000000</td>\n",
       "    </tr>\n",
       "    <tr>\n",
       "      <th>50%</th>\n",
       "      <td>2014.000000</td>\n",
       "      <td>3.500000e+05</td>\n",
       "      <td>60000.000000</td>\n",
       "    </tr>\n",
       "    <tr>\n",
       "      <th>75%</th>\n",
       "      <td>2016.000000</td>\n",
       "      <td>6.000000e+05</td>\n",
       "      <td>90000.000000</td>\n",
       "    </tr>\n",
       "    <tr>\n",
       "      <th>max</th>\n",
       "      <td>2020.000000</td>\n",
       "      <td>8.900000e+06</td>\n",
       "      <td>806599.000000</td>\n",
       "    </tr>\n",
       "  </tbody>\n",
       "</table>\n",
       "</div>"
      ],
      "text/plain": [
       "              year  selling_price      km_driven\n",
       "count  4340.000000   4.340000e+03    4340.000000\n",
       "mean   2013.090783   5.041273e+05   66215.777419\n",
       "std       4.215344   5.785487e+05   46644.102194\n",
       "min    1992.000000   2.000000e+04       1.000000\n",
       "25%    2011.000000   2.087498e+05   35000.000000\n",
       "50%    2014.000000   3.500000e+05   60000.000000\n",
       "75%    2016.000000   6.000000e+05   90000.000000\n",
       "max    2020.000000   8.900000e+06  806599.000000"
      ]
     },
     "execution_count": 511,
     "metadata": {},
     "output_type": "execute_result"
    }
   ],
   "source": [
    "df.describe()"
   ]
  },
  {
   "cell_type": "code",
   "execution_count": 512,
   "id": "9c8aec05",
   "metadata": {},
   "outputs": [],
   "source": [
    "df=df[df['selling_price']<6e6].reset_index(drop=True)  "
   ]
  },
  {
   "cell_type": "code",
   "execution_count": 513,
   "id": "7868c9d3",
   "metadata": {},
   "outputs": [
    {
     "name": "stdout",
     "output_type": "stream",
     "text": [
      "<class 'pandas.core.frame.DataFrame'>\n",
      "RangeIndex: 4338 entries, 0 to 4337\n",
      "Data columns (total 9 columns):\n",
      " #   Column         Non-Null Count  Dtype \n",
      "---  ------         --------------  ----- \n",
      " 0   name           4338 non-null   object\n",
      " 1   Brand_name     4338 non-null   object\n",
      " 2   year           4338 non-null   int64 \n",
      " 3   selling_price  4338 non-null   int64 \n",
      " 4   km_driven      4338 non-null   int64 \n",
      " 5   fuel           4338 non-null   object\n",
      " 6   seller_type    4338 non-null   object\n",
      " 7   transmission   4338 non-null   object\n",
      " 8   owner          4338 non-null   object\n",
      "dtypes: int64(3), object(6)\n",
      "memory usage: 305.1+ KB\n"
     ]
    }
   ],
   "source": [
    "df.info()"
   ]
  },
  {
   "cell_type": "code",
   "execution_count": null,
   "id": "79f2ccb5",
   "metadata": {
    "colab": {
     "base_uri": "https://localhost:8080/"
    },
    "id": "79f2ccb5",
    "outputId": "fadbe109-97f7-422e-befc-85ae99ba14fe"
   },
   "outputs": [],
   "source": []
  },
  {
   "cell_type": "code",
   "execution_count": 514,
   "id": "be31a5c6",
   "metadata": {
    "colab": {
     "base_uri": "https://localhost:8080/"
    },
    "id": "be31a5c6",
    "outputId": "cfd8b193-f024-4e01-ec3c-b7b5c1dccb1e"
   },
   "outputs": [
    {
     "data": {
      "text/plain": [
       "746"
      ]
     },
     "execution_count": 514,
     "metadata": {},
     "output_type": "execute_result"
    }
   ],
   "source": [
    "df.duplicated().sum()"
   ]
  },
  {
   "cell_type": "code",
   "execution_count": 515,
   "id": "2c5290e4",
   "metadata": {
    "id": "2c5290e4"
   },
   "outputs": [],
   "source": [
    "df.drop_duplicates(inplace=True)"
   ]
  },
  {
   "cell_type": "code",
   "execution_count": 516,
   "id": "53d0928d",
   "metadata": {
    "colab": {
     "base_uri": "https://localhost:8080/"
    },
    "id": "53d0928d",
    "outputId": "8adeefeb-1080-49cb-f6a4-bb7f60abb023"
   },
   "outputs": [
    {
     "data": {
      "text/plain": [
       "name             object\n",
       "Brand_name       object\n",
       "year              int64\n",
       "selling_price     int64\n",
       "km_driven         int64\n",
       "fuel             object\n",
       "seller_type      object\n",
       "transmission     object\n",
       "owner            object\n",
       "dtype: object"
      ]
     },
     "execution_count": 516,
     "metadata": {},
     "output_type": "execute_result"
    }
   ],
   "source": [
    "df.dtypes"
   ]
  },
  {
   "cell_type": "code",
   "execution_count": 517,
   "id": "1926f08b",
   "metadata": {
    "colab": {
     "base_uri": "https://localhost:8080/"
    },
    "id": "1926f08b",
    "outputId": "6eee4d4c-61b4-408b-dc06-76ab4b9dd4bc"
   },
   "outputs": [
    {
     "data": {
      "text/plain": [
       "name             0\n",
       "Brand_name       0\n",
       "year             0\n",
       "selling_price    0\n",
       "km_driven        0\n",
       "fuel             0\n",
       "seller_type      0\n",
       "transmission     0\n",
       "owner            0\n",
       "dtype: int64"
      ]
     },
     "execution_count": 517,
     "metadata": {},
     "output_type": "execute_result"
    }
   ],
   "source": [
    "df.isnull().sum()"
   ]
  },
  {
   "cell_type": "code",
   "execution_count": 518,
   "id": "94650bbb",
   "metadata": {
    "colab": {
     "base_uri": "https://localhost:8080/"
    },
    "id": "94650bbb",
    "outputId": "35ed8625-63dc-4b03-d53f-2bf4f2b8abb4",
    "scrolled": true
   },
   "outputs": [],
   "source": [
    "#df.drop('',axis=1,inplace=True)\n",
    "#df.columns"
   ]
  },
  {
   "cell_type": "code",
   "execution_count": 519,
   "id": "62b27ce6",
   "metadata": {
    "colab": {
     "base_uri": "https://localhost:8080/"
    },
    "id": "62b27ce6",
    "outputId": "463c2329-f9d8-4966-dc5f-ae9091edca73"
   },
   "outputs": [
    {
     "data": {
      "text/plain": [
       "0"
      ]
     },
     "execution_count": 519,
     "metadata": {},
     "output_type": "execute_result"
    }
   ],
   "source": [
    "df.duplicated().sum()"
   ]
  },
  {
   "cell_type": "code",
   "execution_count": 520,
   "id": "b04d1123",
   "metadata": {
    "colab": {
     "base_uri": "https://localhost:8080/"
    },
    "id": "b04d1123",
    "outputId": "7fd8bbb8-0585-447d-f9ef-a2398c459b1e"
   },
   "outputs": [
    {
     "data": {
      "text/plain": [
       "1489"
      ]
     },
     "execution_count": 520,
     "metadata": {},
     "output_type": "execute_result"
    }
   ],
   "source": [
    "df['name'].nunique()"
   ]
  },
  {
   "cell_type": "code",
   "execution_count": 521,
   "id": "2b9d0fd5",
   "metadata": {
    "colab": {
     "base_uri": "https://localhost:8080/",
     "height": 472
    },
    "id": "2b9d0fd5",
    "outputId": "f72ca669-036f-4c9a-f625-8d23d5372911"
   },
   "outputs": [
    {
     "data": {
      "image/png": "[encoded data removed]",
      "text/plain": [
       "<Figure size 432x288 with 1 Axes>"
      ]
     },
     "metadata": {
      "needs_background": "light"
     },
     "output_type": "display_data"
    }
   ],
   "source": [
    "sns.countplot(y=df['Brand_name'],\n",
    "              order=df['Brand_name'].value_counts().sort_values(ascending=False)[:7].index)\n",
    "plt.title('Top 7 Car brands')\n",
    "plt.show()"
   ]
  },
  {
   "cell_type": "code",
   "execution_count": 522,
   "id": "3df2be74",
   "metadata": {
    "colab": {
     "base_uri": "https://localhost:8080/",
     "height": 472
    },
    "id": "3df2be74",
    "outputId": "d4c67a90-369b-45ca-d819-ff59d44241ce"
   },
   "outputs": [
    {
     "data": {
      "image/png": "[encoded data removed]",
      "text/plain": [
       "<Figure size 432x288 with 1 Axes>"
      ]
     },
     "metadata": {
      "needs_background": "light"
     },
     "output_type": "display_data"
    }
   ],
   "source": [
    "sns.countplot(y=df['name'],\n",
    "              order=df['name'].value_counts().sort_values(ascending=False)[:6].index)\n",
    "plt.title('Top 6 ar brands')\n",
    "plt.show()"
   ]
  },
  {
   "cell_type": "code",
   "execution_count": 523,
   "id": "5d1dcea3",
   "metadata": {
    "colab": {
     "base_uri": "https://localhost:8080/",
     "height": 472
    },
    "id": "5d1dcea3",
    "outputId": "a8d43956-3c40-4e76-86d9-30ed02330aaa"
   },
   "outputs": [
    {
     "data": {
      "image/png": "[encoded data removed]",
      "text/plain": [
       "<Figure size 432x288 with 1 Axes>"
      ]
     },
     "metadata": {
      "needs_background": "light"
     },
     "output_type": "display_data"
    }
   ],
   "source": [
    "sns.countplot(y=df['fuel'],\n",
    "              order=df['fuel'].value_counts().sort_values(ascending=False).index)\n",
    "plt.title('top 4 fuels  used in car')\n",
    "plt.show()"
   ]
  },
  {
   "cell_type": "code",
   "execution_count": 524,
   "id": "6375680a",
   "metadata": {
    "colab": {
     "base_uri": "https://localhost:8080/"
    },
    "id": "6375680a",
    "outputId": "fe4b96c8-b070-40ff-eb04-ef3fec802777"
   },
   "outputs": [
    {
     "data": {
      "text/plain": [
       "Index(['name', 'Brand_name', 'year', 'selling_price', 'km_driven', 'fuel',\n",
       "       'seller_type', 'transmission', 'owner'],\n",
       "      dtype='object')"
      ]
     },
     "execution_count": 524,
     "metadata": {},
     "output_type": "execute_result"
    }
   ],
   "source": [
    "df.columns"
   ]
  },
  {
   "cell_type": "code",
   "execution_count": 525,
   "id": "03be7e52",
   "metadata": {
    "id": "03be7e52"
   },
   "outputs": [],
   "source": [
    "car = df.copy()"
   ]
  },
  {
   "cell_type": "code",
   "execution_count": 526,
   "id": "f17417b7",
   "metadata": {
    "colab": {
     "base_uri": "https://localhost:8080/",
     "height": 723
    },
    "id": "f17417b7",
    "outputId": "44aa88ab-951e-49b4-e736-e2c06426c545"
   },
   "outputs": [
    {
     "data": {
      "image/png": "[encoded data removed]",
      "text/plain": [
       "<Figure size 864x576 with 1 Axes>"
      ]
     },
     "metadata": {
      "needs_background": "light"
     },
     "output_type": "display_data"
    }
   ],
   "source": [
    "# Plot of Car Models Distribution\n",
    "figure = plt.figure(figsize=(12,8))\n",
    "plt.title('Car Models Distribution', fontsize=18)\n",
    "plot = sns.countplot(x=\"Brand_name\", data=car, order = car['Brand_name'].value_counts().index[:5], palette='Blues_r')\n",
    "plt.show()"
   ]
  },
  {
   "cell_type": "code",
   "execution_count": 527,
   "id": "b6d76153",
   "metadata": {
    "colab": {
     "base_uri": "https://localhost:8080/",
     "height": 483
    },
    "id": "b6d76153",
    "outputId": "ac74995c-abc5-41c6-f5ad-30f8addef481"
   },
   "outputs": [
    {
     "data": {
      "image/png": "[encoded data removed]",
      "text/plain": [
       "<Figure size 1296x576 with 4 Axes>"
      ]
     },
     "metadata": {
      "needs_background": "light"
     },
     "output_type": "display_data"
    }
   ],
   "source": [
    "# Subplot of Categorical Summary\n",
    "plt.figure(figsize=(18,8))\n",
    "\n",
    "plt.subplot(2,2,1)\n",
    "plt.title('Fuel Summary', fontsize=18)\n",
    "sns.countplot(data=car, x='fuel', palette='Blues_r')\n",
    "plt.xlabel('')\n",
    "plt.subplot(2,2,2)\n",
    "plt.title('Transmission Summary', fontsize=18)\n",
    "sns.countplot(data=car, x='transmission', palette='Blues_r')\n",
    "plt.xlabel('')\n",
    "plt.subplot(2,2,3)\n",
    "plt.title('Owner Summary', fontsize=18)\n",
    "sns.countplot(data=car, x='owner', palette='Blues_r')\n",
    "plt.xlabel('')\n",
    "plt.subplot(2,2,4)\n",
    "plt.title('Seller Type Summary', fontsize=18)\n",
    "sns.countplot(data=car, x='seller_type', palette='Blues_r')\n",
    "plt.xlabel('')\n",
    "\n",
    "plt.tight_layout()\n",
    "plt.show()"
   ]
  },
  {
   "cell_type": "code",
   "execution_count": 528,
   "id": "f6b02add",
   "metadata": {
    "colab": {
     "base_uri": "https://localhost:8080/",
     "height": 450
    },
    "id": "f6b02add",
    "outputId": "8334a1a4-e05e-4efa-e93f-76bc07e41cf3"
   },
   "outputs": [
    {
     "data": {
      "image/png": "[encoded data removed]",
      "text/plain": [
       "<Figure size 432x288 with 1 Axes>"
      ]
     },
     "metadata": {
      "needs_background": "light"
     },
     "output_type": "display_data"
    }
   ],
   "source": [
    "sns.boxplot(y=df['Brand_name'],x=df['selling_price'])\n",
    "plt.show()"
   ]
  },
  {
   "cell_type": "code",
   "execution_count": 529,
   "id": "8f1daab8",
   "metadata": {
    "colab": {
     "base_uri": "https://localhost:8080/",
     "height": 450
    },
    "id": "8f1daab8",
    "outputId": "f91f20cf-269e-4f30-edd6-f8cad14891d5"
   },
   "outputs": [
    {
     "data": {
      "image/png": "[encoded data removed]",
      "text/plain": [
       "<Figure size 432x288 with 1 Axes>"
      ]
     },
     "metadata": {
      "needs_background": "light"
     },
     "output_type": "display_data"
    }
   ],
   "source": [
    "sns.boxplot(y=df['owner'],x=df['selling_price'])\n",
    "plt.show()"
   ]
  },
  {
   "cell_type": "code",
   "execution_count": 530,
   "id": "90e3ab2b",
   "metadata": {},
   "outputs": [
    {
     "data": {
      "image/png": "[encoded data removed]",
      "text/plain": [
       "<Figure size 432x288 with 1 Axes>"
      ]
     },
     "metadata": {
      "needs_background": "light"
     },
     "output_type": "display_data"
    }
   ],
   "source": [
    "sns.boxplot(y=df['year'],x=df['selling_price'])\n",
    "plt.show()"
   ]
  },
  {
   "cell_type": "code",
   "execution_count": 531,
   "id": "c4ec0d6e",
   "metadata": {
    "colab": {
     "base_uri": "https://localhost:8080/",
     "height": 692
    },
    "id": "c4ec0d6e",
    "outputId": "dd29d673-5b48-48e3-ad98-dc8050a59b59",
    "scrolled": true
   },
   "outputs": [
    {
     "data": {
      "image/png": "[encoded data removed]",
      "text/plain": [
       "<Figure size 1728x1152 with 4 Axes>"
      ]
     },
     "metadata": {
      "needs_background": "light"
     },
     "output_type": "display_data"
    }
   ],
   "source": [
    "plt.figure(figsize=(24,16))\n",
    "\n",
    "plt.subplot(2,2,1)\n",
    "plt.title('Fuel by selling_price Distribution', fontsize=18)\n",
    "sns.boxplot(data=car, x='selling_price', y='fuel', palette='Set2')\n",
    "plt.ticklabel_format(style='plain', axis='x')\n",
    "plt.subplot(2,2,2)\n",
    "plt.title('Transmission by selling_price Distribution', fontsize=18)\n",
    "sns.boxplot(data=car, x='selling_price', y='transmission', palette='Set2')\n",
    "plt.ticklabel_format(style='plain', axis='x')\n",
    "plt.subplot(2,2,3)\n",
    "plt.title('Owner by selling_price Distribution', fontsize=18)\n",
    "sns.boxplot(data=car, x='selling_price', y='owner', palette='Set2')\n",
    "plt.ticklabel_format(style='plain', axis='x')\n",
    "plt.subplot(2,2,4)\n",
    "plt.title('Seller_type by selling_price Distribution', fontsize=18)\n",
    "sns.boxplot(data=car, x='selling_price', y='seller_type', palette='Set2')\n",
    "plt.ticklabel_format(style='plain', axis='x')"
   ]
  },
  {
   "cell_type": "code",
   "execution_count": 532,
   "id": "99fa1148",
   "metadata": {
    "colab": {
     "base_uri": "https://localhost:8080/"
    },
    "id": "99fa1148",
    "outputId": "f1f76ed6-584b-4238-d645-662c712842e5"
   },
   "outputs": [
    {
     "data": {
      "text/plain": [
       "Index(['name', 'Brand_name', 'year', 'selling_price', 'km_driven', 'fuel',\n",
       "       'seller_type', 'transmission', 'owner'],\n",
       "      dtype='object')"
      ]
     },
     "execution_count": 532,
     "metadata": {},
     "output_type": "execute_result"
    }
   ],
   "source": [
    "df.columns"
   ]
  },
  {
   "cell_type": "code",
   "execution_count": 533,
   "id": "1cc55dcf",
   "metadata": {
    "colab": {
     "base_uri": "https://localhost:8080/",
     "height": 507
    },
    "id": "1cc55dcf",
    "outputId": "04f6962c-884c-4b3d-9a53-ddf86c480010"
   },
   "outputs": [
    {
     "data": {
      "image/png": "[encoded data removed]",
      "text/plain": [
       "<Figure size 360x360 with 1 Axes>"
      ]
     },
     "metadata": {
      "needs_background": "light"
     },
     "output_type": "display_data"
    }
   ],
   "source": [
    "sns.displot(df['selling_price'])\n",
    "plt.show()"
   ]
  },
  {
   "cell_type": "code",
   "execution_count": 534,
   "id": "88409bfe",
   "metadata": {},
   "outputs": [
    {
     "data": {
      "image/png": "[encoded data removed]",
      "text/plain": [
       "<Figure size 360x360 with 1 Axes>"
      ]
     },
     "metadata": {
      "needs_background": "light"
     },
     "output_type": "display_data"
    }
   ],
   "source": [
    "sns.displot(df['year'])\n",
    "plt.show()"
   ]
  },
  {
   "cell_type": "code",
   "execution_count": 535,
   "id": "002d12bc",
   "metadata": {
    "colab": {
     "base_uri": "https://localhost:8080/",
     "height": 492
    },
    "id": "002d12bc",
    "outputId": "22fc844a-b019-452f-991f-d2f47bbe017e"
   },
   "outputs": [
    {
     "data": {
      "image/png": "[encoded data removed]",
      "text/plain": [
       "<Figure size 432x288 with 2 Axes>"
      ]
     },
     "metadata": {
      "needs_background": "light"
     },
     "output_type": "display_data"
    }
   ],
   "source": [
    "corr =  df.corr()\n",
    "sns.heatmap(corr,annot=True,cmap='RdBu')\n",
    "plt.show()"
   ]
  },
  {
   "cell_type": "code",
   "execution_count": 536,
   "id": "053c68c5",
   "metadata": {
    "colab": {
     "base_uri": "https://localhost:8080/",
     "height": 435
    },
    "id": "053c68c5",
    "outputId": "b617c1ba-84cf-43f5-b6cf-2faa9ef074c3"
   },
   "outputs": [
    {
     "data": {
      "image/png": "[encoded data removed]",
      "text/plain": [
       "<Figure size 432x288 with 2 Axes>"
      ]
     },
     "metadata": {
      "needs_background": "light"
     },
     "output_type": "display_data"
    }
   ],
   "source": [
    "sns.heatmap(corr[abs(corr)>0.4],annot=True,cmap='RdBu')\n",
    "plt.show()"
   ]
  },
  {
   "cell_type": "code",
   "execution_count": 537,
   "id": "1a0a027c",
   "metadata": {
    "colab": {
     "base_uri": "https://localhost:8080/",
     "height": 207
    },
    "id": "1a0a027c",
    "outputId": "94da9391-5d07-44c5-92bf-439def4a1ca4"
   },
   "outputs": [
    {
     "data": {
      "text/html": [
       "<div>\n",
       "<style scoped>\n",
       "    .dataframe tbody tr th:only-of-type {\n",
       "        vertical-align: middle;\n",
       "    }\n",
       "\n",
       "    .dataframe tbody tr th {\n",
       "        vertical-align: top;\n",
       "    }\n",
       "\n",
       "    .dataframe thead th {\n",
       "        text-align: right;\n",
       "    }\n",
       "</style>\n",
       "<table border=\"1\" class=\"dataframe\">\n",
       "  <thead>\n",
       "    <tr style=\"text-align: right;\">\n",
       "      <th></th>\n",
       "      <th>count</th>\n",
       "      <th>mean</th>\n",
       "      <th>std</th>\n",
       "      <th>min</th>\n",
       "      <th>1%</th>\n",
       "      <th>2%</th>\n",
       "      <th>3%</th>\n",
       "      <th>5%</th>\n",
       "      <th>50%</th>\n",
       "      <th>97%</th>\n",
       "      <th>98%</th>\n",
       "      <th>99%</th>\n",
       "      <th>max</th>\n",
       "    </tr>\n",
       "  </thead>\n",
       "  <tbody>\n",
       "    <tr>\n",
       "      <th>year</th>\n",
       "      <td>3592.0</td>\n",
       "      <td>2012.964365</td>\n",
       "      <td>4.248984</td>\n",
       "      <td>1992.0</td>\n",
       "      <td>2000.00</td>\n",
       "      <td>2003.0</td>\n",
       "      <td>2004.0</td>\n",
       "      <td>2005.0</td>\n",
       "      <td>2013.0</td>\n",
       "      <td>2019.0</td>\n",
       "      <td>2019.0</td>\n",
       "      <td>2020.0</td>\n",
       "      <td>2020.0</td>\n",
       "    </tr>\n",
       "    <tr>\n",
       "      <th>selling_price</th>\n",
       "      <td>3592.0</td>\n",
       "      <td>469278.998608</td>\n",
       "      <td>471990.530881</td>\n",
       "      <td>20000.0</td>\n",
       "      <td>51919.99</td>\n",
       "      <td>60000.0</td>\n",
       "      <td>70000.0</td>\n",
       "      <td>80000.0</td>\n",
       "      <td>350000.0</td>\n",
       "      <td>1490000.0</td>\n",
       "      <td>1800000.0</td>\n",
       "      <td>2604500.0</td>\n",
       "      <td>5500000.0</td>\n",
       "    </tr>\n",
       "    <tr>\n",
       "      <th>km_driven</th>\n",
       "      <td>3592.0</td>\n",
       "      <td>69256.041759</td>\n",
       "      <td>47522.847345</td>\n",
       "      <td>1.0</td>\n",
       "      <td>1752.78</td>\n",
       "      <td>5000.0</td>\n",
       "      <td>6889.3</td>\n",
       "      <td>10000.0</td>\n",
       "      <td>60000.0</td>\n",
       "      <td>170000.0</td>\n",
       "      <td>192540.0</td>\n",
       "      <td>223059.4</td>\n",
       "      <td>806599.0</td>\n",
       "    </tr>\n",
       "  </tbody>\n",
       "</table>\n",
       "</div>"
      ],
      "text/plain": [
       "                count           mean            std      min        1%  \\\n",
       "year           3592.0    2012.964365       4.248984   1992.0   2000.00   \n",
       "selling_price  3592.0  469278.998608  471990.530881  20000.0  51919.99   \n",
       "km_driven      3592.0   69256.041759   47522.847345      1.0   1752.78   \n",
       "\n",
       "                    2%       3%       5%       50%        97%        98%  \\\n",
       "year            2003.0   2004.0   2005.0    2013.0     2019.0     2019.0   \n",
       "selling_price  60000.0  70000.0  80000.0  350000.0  1490000.0  1800000.0   \n",
       "km_driven       5000.0   6889.3  10000.0   60000.0   170000.0   192540.0   \n",
       "\n",
       "                     99%        max  \n",
       "year              2020.0     2020.0  \n",
       "selling_price  2604500.0  5500000.0  \n",
       "km_driven       223059.4   806599.0  "
      ]
     },
     "execution_count": 537,
     "metadata": {},
     "output_type": "execute_result"
    }
   ],
   "source": [
    "df.describe(percentiles=[0.01,0.02,0.03,0.05,0.97,0.98,0.99]).T"
   ]
  },
  {
   "cell_type": "code",
   "execution_count": 538,
   "id": "f6960f23",
   "metadata": {
    "colab": {
     "base_uri": "https://localhost:8080/",
     "height": 450
    },
    "id": "f6960f23",
    "outputId": "de83bd76-7eed-4f17-cec0-a66087e27f38"
   },
   "outputs": [
    {
     "data": {
      "image/png": "[encoded data removed]",
      "text/plain": [
       "<Figure size 432x288 with 1 Axes>"
      ]
     },
     "metadata": {
      "needs_background": "light"
     },
     "output_type": "display_data"
    }
   ],
   "source": [
    "sns.boxplot(x=df['km_driven'])\n",
    "plt.show()"
   ]
  },
  {
   "cell_type": "code",
   "execution_count": 539,
   "id": "5259c5f1",
   "metadata": {
    "colab": {
     "base_uri": "https://localhost:8080/"
    },
    "id": "5259c5f1",
    "outputId": "fb6621a2-0417-4a58-a2b0-8576379d385b"
   },
   "outputs": [
    {
     "name": "stdout",
     "output_type": "stream",
     "text": [
      "(3496, 9)\n"
     ]
    }
   ],
   "source": [
    "print(df[df['km_driven']>5000].shape)"
   ]
  },
  {
   "cell_type": "code",
   "execution_count": 540,
   "id": "e45aae15",
   "metadata": {},
   "outputs": [
    {
     "data": {
      "text/html": [
       "<div>\n",
       "<style scoped>\n",
       "    .dataframe tbody tr th:only-of-type {\n",
       "        vertical-align: middle;\n",
       "    }\n",
       "\n",
       "    .dataframe tbody tr th {\n",
       "        vertical-align: top;\n",
       "    }\n",
       "\n",
       "    .dataframe thead th {\n",
       "        text-align: right;\n",
       "    }\n",
       "</style>\n",
       "<table border=\"1\" class=\"dataframe\">\n",
       "  <thead>\n",
       "    <tr style=\"text-align: right;\">\n",
       "      <th></th>\n",
       "      <th>name</th>\n",
       "      <th>Brand_name</th>\n",
       "      <th>year</th>\n",
       "      <th>selling_price</th>\n",
       "      <th>km_driven</th>\n",
       "      <th>fuel</th>\n",
       "      <th>seller_type</th>\n",
       "      <th>transmission</th>\n",
       "      <th>owner</th>\n",
       "    </tr>\n",
       "  </thead>\n",
       "  <tbody>\n",
       "    <tr>\n",
       "      <th>0</th>\n",
       "      <td>Maruti 800 AC</td>\n",
       "      <td>Maruti</td>\n",
       "      <td>2007</td>\n",
       "      <td>60000</td>\n",
       "      <td>70000</td>\n",
       "      <td>Petrol</td>\n",
       "      <td>Individual</td>\n",
       "      <td>Manual</td>\n",
       "      <td>First Owner</td>\n",
       "    </tr>\n",
       "    <tr>\n",
       "      <th>1</th>\n",
       "      <td>Maruti Wagon R LXI Minor</td>\n",
       "      <td>Maruti</td>\n",
       "      <td>2007</td>\n",
       "      <td>135000</td>\n",
       "      <td>50000</td>\n",
       "      <td>Petrol</td>\n",
       "      <td>Individual</td>\n",
       "      <td>Manual</td>\n",
       "      <td>First Owner</td>\n",
       "    </tr>\n",
       "    <tr>\n",
       "      <th>2</th>\n",
       "      <td>Hyundai Verna 1.6 SX</td>\n",
       "      <td>Hyundai</td>\n",
       "      <td>2012</td>\n",
       "      <td>600000</td>\n",
       "      <td>100000</td>\n",
       "      <td>Diesel</td>\n",
       "      <td>Individual</td>\n",
       "      <td>Manual</td>\n",
       "      <td>First Owner</td>\n",
       "    </tr>\n",
       "    <tr>\n",
       "      <th>3</th>\n",
       "      <td>Datsun RediGO T Option</td>\n",
       "      <td>Datsun</td>\n",
       "      <td>2017</td>\n",
       "      <td>250000</td>\n",
       "      <td>46000</td>\n",
       "      <td>Petrol</td>\n",
       "      <td>Individual</td>\n",
       "      <td>Manual</td>\n",
       "      <td>First Owner</td>\n",
       "    </tr>\n",
       "    <tr>\n",
       "      <th>4</th>\n",
       "      <td>Honda Amaze VX i-DTEC</td>\n",
       "      <td>Maruti</td>\n",
       "      <td>2007</td>\n",
       "      <td>140000</td>\n",
       "      <td>125000</td>\n",
       "      <td>Petrol</td>\n",
       "      <td>Individual</td>\n",
       "      <td>Manual</td>\n",
       "      <td>First Owner</td>\n",
       "    </tr>\n",
       "  </tbody>\n",
       "</table>\n",
       "</div>"
      ],
      "text/plain": [
       "                       name Brand_name  year  selling_price  km_driven  \\\n",
       "0             Maruti 800 AC     Maruti  2007          60000      70000   \n",
       "1  Maruti Wagon R LXI Minor     Maruti  2007         135000      50000   \n",
       "2      Hyundai Verna 1.6 SX    Hyundai  2012         600000     100000   \n",
       "3    Datsun RediGO T Option     Datsun  2017         250000      46000   \n",
       "4     Honda Amaze VX i-DTEC     Maruti  2007         140000     125000   \n",
       "\n",
       "     fuel seller_type transmission        owner  \n",
       "0  Petrol  Individual       Manual  First Owner  \n",
       "1  Petrol  Individual       Manual  First Owner  \n",
       "2  Diesel  Individual       Manual  First Owner  \n",
       "3  Petrol  Individual       Manual  First Owner  \n",
       "4  Petrol  Individual       Manual  First Owner  "
      ]
     },
     "execution_count": 540,
     "metadata": {},
     "output_type": "execute_result"
    }
   ],
   "source": [
    "df.head()"
   ]
  },
  {
   "cell_type": "code",
   "execution_count": 541,
   "id": "c0a88248",
   "metadata": {
    "colab": {
     "base_uri": "https://localhost:8080/",
     "height": 435
    },
    "id": "c0a88248",
    "outputId": "7ceffc14-c95c-4635-a531-961d02f87d18"
   },
   "outputs": [
    {
     "data": {
      "image/png": "[encoded data removed]",
      "text/plain": [
       "<Figure size 432x288 with 1 Axes>"
      ]
     },
     "metadata": {
      "needs_background": "light"
     },
     "output_type": "display_data"
    }
   ],
   "source": [
    "sns.boxplot(x=df['year'])\n",
    "plt.show()"
   ]
  },
  {
   "cell_type": "code",
   "execution_count": 542,
   "id": "a49a9805",
   "metadata": {
    "colab": {
     "base_uri": "https://localhost:8080/"
    },
    "id": "a49a9805",
    "outputId": "b5d99220-027c-4a85-8a5e-692793e201cd"
   },
   "outputs": [
    {
     "name": "stdout",
     "output_type": "stream",
     "text": [
      "(3592, 9)\n"
     ]
    }
   ],
   "source": [
    "print(df[df['year']>1].shape)"
   ]
  },
  {
   "cell_type": "code",
   "execution_count": 543,
   "id": "c884d333",
   "metadata": {
    "colab": {
     "base_uri": "https://localhost:8080/",
     "height": 450
    },
    "id": "c884d333",
    "outputId": "21a5a566-d38b-48cb-98f0-647d8d334bba"
   },
   "outputs": [
    {
     "data": {
      "image/png": "[encoded data removed]",
      "text/plain": [
       "<Figure size 432x288 with 1 Axes>"
      ]
     },
     "metadata": {
      "needs_background": "light"
     },
     "output_type": "display_data"
    }
   ],
   "source": [
    "sns.boxplot(x=df['selling_price'])\n",
    "plt.show()"
   ]
  },
  {
   "cell_type": "code",
   "execution_count": 544,
   "id": "5ea44cf3",
   "metadata": {
    "colab": {
     "base_uri": "https://localhost:8080/"
    },
    "id": "5ea44cf3",
    "outputId": "d1b1a2f9-db96-4828-8789-f3b02b9b1eba"
   },
   "outputs": [
    {
     "name": "stdout",
     "output_type": "stream",
     "text": [
      "(3557, 9)\n"
     ]
    }
   ],
   "source": [
    "print(df[df['selling_price']>50000].shape)"
   ]
  },
  {
   "cell_type": "code",
   "execution_count": 545,
   "id": "617b8111",
   "metadata": {
    "id": "617b8111"
   },
   "outputs": [],
   "source": [
    "#df['year']= np.where(df['year']>5,10,df['year'])\n",
    "# df['Weight']= np.where(df['Weight']>3.5,3.5,df['Weight'])"
   ]
  },
  {
   "cell_type": "code",
   "execution_count": 546,
   "id": "e54bf382",
   "metadata": {
    "colab": {
     "base_uri": "https://localhost:8080/",
     "height": 449
    },
    "id": "e54bf382",
    "outputId": "f4fe3c1a-e913-4f75-fbd0-f5eec100d2b1"
   },
   "outputs": [],
   "source": [
    "#sns.boxplot(x=df['year'])\n",
    "#plt.show()"
   ]
  },
  {
   "cell_type": "code",
   "execution_count": 547,
   "id": "98076ca8",
   "metadata": {
    "colab": {
     "base_uri": "https://localhost:8080/"
    },
    "id": "98076ca8",
    "outputId": "335b3acd-2f6f-4416-bc52-daa25a2bfbe1"
   },
   "outputs": [
    {
     "data": {
      "text/plain": [
       "29"
      ]
     },
     "execution_count": 547,
     "metadata": {},
     "output_type": "execute_result"
    }
   ],
   "source": [
    "df['Brand_name'].nunique()"
   ]
  },
  {
   "cell_type": "code",
   "execution_count": 548,
   "id": "hW9ArHh7x_Be",
   "metadata": {
    "colab": {
     "base_uri": "https://localhost:8080/",
     "height": 206
    },
    "id": "hW9ArHh7x_Be",
    "outputId": "1c34fe31-7e63-496f-e441-874d918254fd"
   },
   "outputs": [
    {
     "name": "stdout",
     "output_type": "stream",
     "text": [
      "<class 'pandas.core.frame.DataFrame'>\n",
      "Int64Index: 3592 entries, 0 to 4337\n",
      "Data columns (total 9 columns):\n",
      " #   Column         Non-Null Count  Dtype \n",
      "---  ------         --------------  ----- \n",
      " 0   name           3592 non-null   object\n",
      " 1   Brand_name     3592 non-null   object\n",
      " 2   year           3592 non-null   int64 \n",
      " 3   selling_price  3592 non-null   int64 \n",
      " 4   km_driven      3592 non-null   int64 \n",
      " 5   fuel           3592 non-null   object\n",
      " 6   seller_type    3592 non-null   object\n",
      " 7   transmission   3592 non-null   object\n",
      " 8   owner          3592 non-null   object\n",
      "dtypes: int64(3), object(6)\n",
      "memory usage: 280.6+ KB\n"
     ]
    }
   ],
   "source": [
    "df.info()"
   ]
  },
  {
   "cell_type": "code",
   "execution_count": 549,
   "id": "7t9ZwlzBy8xX",
   "metadata": {
    "colab": {
     "base_uri": "https://localhost:8080/"
    },
    "id": "7t9ZwlzBy8xX",
    "outputId": "946d34b6-a4bb-4d22-a136-13128eabb67a"
   },
   "outputs": [
    {
     "data": {
      "text/plain": [
       "Index(['Brand_name', 'year', 'selling_price', 'km_driven', 'fuel',\n",
       "       'seller_type', 'transmission', 'owner'],\n",
       "      dtype='object')"
      ]
     },
     "execution_count": 549,
     "metadata": {},
     "output_type": "execute_result"
    }
   ],
   "source": [
    "df.drop('name',axis=1,inplace=True)\n",
    "df.columns"
   ]
  },
  {
   "cell_type": "code",
   "execution_count": 550,
   "id": "35742c76",
   "metadata": {
    "colab": {
     "base_uri": "https://localhost:8080/"
    },
    "id": "35742c76",
    "outputId": "fb716e7e-7b7f-4615-a3b3-d3322623ee26"
   },
   "outputs": [
    {
     "name": "stdout",
     "output_type": "stream",
     "text": [
      "<class 'pandas.core.frame.DataFrame'>\n",
      "<class 'pandas.core.series.Series'>\n",
      "(3592, 7)\n",
      "(3592,)\n"
     ]
    }
   ],
   "source": [
    "X = df.drop(columns='selling_price')\n",
    "y = df['selling_price']\n",
    "print(type(X))\n",
    "print(type(y))\n",
    "print(X.shape)\n",
    "print(y.shape)"
   ]
  },
  {
   "cell_type": "code",
   "execution_count": 551,
   "id": "adc74081",
   "metadata": {
    "colab": {
     "base_uri": "https://localhost:8080/"
    },
    "id": "adc74081",
    "outputId": "6143db59-cbb4-4421-c40a-01e722725ae9"
   },
   "outputs": [],
   "source": [
    "# Spliting training and testing dataset\n",
    "from sklearn.model_selection import train_test_split\n",
    "X_train,X_test, y_train,y_test=train_test_split(X,y,test_size = 0.2)#, random_state=80)"
   ]
  },
  {
   "cell_type": "code",
   "execution_count": 552,
   "id": "862bc5d6",
   "metadata": {},
   "outputs": [
    {
     "name": "stdout",
     "output_type": "stream",
     "text": [
      "(2873, 7)\n",
      "(719, 7)\n",
      "(2873,)\n"
     ]
    }
   ],
   "source": [
    "print(X_train.shape)\n",
    "print(X_test.shape)\n",
    "print(y_train.shape)"
   ]
  },
  {
   "cell_type": "code",
   "execution_count": 553,
   "id": "6b9fd70c",
   "metadata": {},
   "outputs": [],
   "source": [
    "## Model building and One Hot Encoding\n",
    "from sklearn.linear_model import LinearRegression\n",
    "from sklearn.metrics import r2_score\n",
    "from sklearn.preprocessing import OneHotEncoder\n",
    "from sklearn.compose import make_column_transformer\n",
    "from sklearn.pipeline import make_pipeline"
   ]
  },
  {
   "cell_type": "code",
   "execution_count": 554,
   "id": "95a1714f",
   "metadata": {
    "id": "95a1714f"
   },
   "outputs": [],
   "source": [
    "def eval_model(ytest,ypred):\n",
    "    mae = mean_absolute_error(ytest,ypred)\n",
    "    mse = mean_squared_error(ytest,ypred)\n",
    "    rmse = np.sqrt(mse)\n",
    "    r2s = r2_score(ytest,ypred)\n",
    "    print('MAE',mae)\n",
    "    print('MSE',mse)\n",
    "    print('RMSE',rmse)\n",
    "    print('R2 Score',r2s)"
   ]
  },
  {
   "cell_type": "code",
   "execution_count": 555,
   "id": "39220b72",
   "metadata": {
    "id": "39220b72"
   },
   "outputs": [
    {
     "data": {
      "text/html": [
       "<style>#sk-container-id-12 {color: black;background-color: white;}#sk-container-id-12 pre{padding: 0;}#sk-container-id-12 div.sk-toggleable {background-color: white;}#sk-container-id-12 label.sk-toggleable__label {cursor: pointer;display: block;width: 100%;margin-bottom: 0;padding: 0.3em;box-sizing: border-box;text-align: center;}#sk-container-id-12 label.sk-toggleable__label-arrow:before {content: \"▸\";float: left;margin-right: 0.25em;color: #696969;}#sk-container-id-12 label.sk-toggleable__label-arrow:hover:before {color: black;}#sk-container-id-12 div.sk-estimator:hover label.sk-toggleable__label-arrow:before {color: black;}#sk-container-id-12 div.sk-toggleable__content {max-height: 0;max-width: 0;overflow: hidden;text-align: left;background-color: #f0f8ff;}#sk-container-id-12 div.sk-toggleable__content pre {margin: 0.2em;color: black;border-radius: 0.25em;background-color: #f0f8ff;}#sk-container-id-12 input.sk-toggleable__control:checked~div.sk-toggleable__content {max-height: 200px;max-width: 100%;overflow: auto;}#sk-container-id-12 input.sk-toggleable__control:checked~label.sk-toggleable__label-arrow:before {content: \"▾\";}#sk-container-id-12 div.sk-estimator input.sk-toggleable__control:checked~label.sk-toggleable__label {background-color: #d4ebff;}#sk-container-id-12 div.sk-label input.sk-toggleable__control:checked~label.sk-toggleable__label {background-color: #d4ebff;}#sk-container-id-12 input.sk-hidden--visually {border: 0;clip: rect(1px 1px 1px 1px);clip: rect(1px, 1px, 1px, 1px);height: 1px;margin: -1px;overflow: hidden;padding: 0;position: absolute;width: 1px;}#sk-container-id-12 div.sk-estimator {font-family: monospace;background-color: #f0f8ff;border: 1px dotted black;border-radius: 0.25em;box-sizing: border-box;margin-bottom: 0.5em;}#sk-container-id-12 div.sk-estimator:hover {background-color: #d4ebff;}#sk-container-id-12 div.sk-parallel-item::after {content: \"\";width: 100%;border-bottom: 1px solid gray;flex-grow: 1;}#sk-container-id-12 div.sk-label:hover label.sk-toggleable__label {background-color: #d4ebff;}#sk-container-id-12 div.sk-serial::before {content: \"\";position: absolute;border-left: 1px solid gray;box-sizing: border-box;top: 0;bottom: 0;left: 50%;z-index: 0;}#sk-container-id-12 div.sk-serial {display: flex;flex-direction: column;align-items: center;background-color: white;padding-right: 0.2em;padding-left: 0.2em;position: relative;}#sk-container-id-12 div.sk-item {position: relative;z-index: 1;}#sk-container-id-12 div.sk-parallel {display: flex;align-items: stretch;justify-content: center;background-color: white;position: relative;}#sk-container-id-12 div.sk-item::before, #sk-container-id-12 div.sk-parallel-item::before {content: \"\";position: absolute;border-left: 1px solid gray;box-sizing: border-box;top: 0;bottom: 0;left: 50%;z-index: -1;}#sk-container-id-12 div.sk-parallel-item {display: flex;flex-direction: column;z-index: 1;position: relative;background-color: white;}#sk-container-id-12 div.sk-parallel-item:first-child::after {align-self: flex-end;width: 50%;}#sk-container-id-12 div.sk-parallel-item:last-child::after {align-self: flex-start;width: 50%;}#sk-container-id-12 div.sk-parallel-item:only-child::after {width: 0;}#sk-container-id-12 div.sk-dashed-wrapped {border: 1px dashed gray;margin: 0 0.4em 0.5em 0.4em;box-sizing: border-box;padding-bottom: 0.4em;background-color: white;}#sk-container-id-12 div.sk-label label {font-family: monospace;font-weight: bold;display: inline-block;line-height: 1.2em;}#sk-container-id-12 div.sk-label-container {text-align: center;}#sk-container-id-12 div.sk-container {/* jupyter's `normalize.less` sets `[hidden] { display: none; }` but bootstrap.min.css set `[hidden] { display: none !important; }` so we also need the `!important` here to be able to override the default hidden behavior on the sphinx rendered scikit-learn.org. See: https://github.com/scikit-learn/scikit-learn/issues/21755 */display: inline-block !important;position: relative;}#sk-container-id-12 div.sk-text-repr-fallback {display: none;}</style><div id=\"sk-container-id-12\" class=\"sk-top-container\"><div class=\"sk-text-repr-fallback\"><pre>OneHotEncoder()</pre><b>In a Jupyter environment, please rerun this cell to show the HTML representation or trust the notebook. <br />On GitHub, the HTML representation is unable to render, please try loading this page with nbviewer.org.</b></div><div class=\"sk-container\" hidden><div class=\"sk-item\"><div class=\"sk-estimator sk-toggleable\"><input class=\"sk-toggleable__control sk-hidden--visually\" id=\"sk-estimator-id-12\" type=\"checkbox\" checked><label for=\"sk-estimator-id-12\" class=\"sk-toggleable__label sk-toggleable__label-arrow\">OneHotEncoder</label><div class=\"sk-toggleable__content\"><pre>OneHotEncoder()</pre></div></div></div></div></div>"
      ],
      "text/plain": [
       "OneHotEncoder()"
      ]
     },
     "execution_count": 555,
     "metadata": {},
     "output_type": "execute_result"
    }
   ],
   "source": [
    "ohe =OneHotEncoder()\n",
    "ohe.fit(X[['Brand_name','fuel','seller_type','owner','transmission']])"
   ]
  },
  {
   "cell_type": "code",
   "execution_count": 556,
   "id": "2b10925d",
   "metadata": {
    "colab": {
     "base_uri": "https://localhost:8080/"
    },
    "id": "2b10925d",
    "outputId": "d3052d91-a884-4405-aff2-18475662aac9"
   },
   "outputs": [
    {
     "data": {
      "text/plain": [
       "Brand_name      object\n",
       "year             int64\n",
       "km_driven        int64\n",
       "fuel            object\n",
       "seller_type     object\n",
       "transmission    object\n",
       "owner           object\n",
       "dtype: object"
      ]
     },
     "execution_count": 556,
     "metadata": {},
     "output_type": "execute_result"
    }
   ],
   "source": [
    "x_train.dtypes"
   ]
  },
  {
   "cell_type": "code",
   "execution_count": 557,
   "id": "7c26987e",
   "metadata": {},
   "outputs": [],
   "source": [
    "#from sklearn.preprocessing import LabelEncoder\n",
    "\n",
    "#lb = LabelEncoder()"
   ]
  },
  {
   "cell_type": "code",
   "execution_count": 558,
   "id": "80d8f83f",
   "metadata": {},
   "outputs": [],
   "source": [
    "#Con_list = [ ]\n",
    "#for i in Con_list:\n",
    "# df[i] = lb.fit_transform(df[i])"
   ]
  },
  {
   "cell_type": "code",
   "execution_count": 559,
   "id": "9f18a0f7",
   "metadata": {},
   "outputs": [
    {
     "name": "stdout",
     "output_type": "stream",
     "text": [
      "0.6894281662256713 0\n",
      "0.6051754040406285 1\n",
      "0.6601304667731256 2\n",
      "0.6128787957772832 3\n",
      "0.6701261474179281 4\n",
      "0.6951062093146054 5\n",
      "0.6482137065711285 6\n",
      "0.6921064428382209 7\n",
      "0.6527559605042883 8\n",
      "0.6246080143698183 9\n",
      "0.7120229390343924 10\n",
      "0.6067106952517354 11\n",
      "0.6778625519914678 12\n",
      "0.6695434352164839 13\n",
      "0.7153805325980839 14\n",
      "0.6638144805949089 15\n",
      "0.6518057619139219 16\n",
      "0.6667583916608782 17\n",
      "0.660097412927436 18\n",
      "0.6458183989525632 19\n",
      "0.6154574247301008 20\n",
      "0.6520170079987679 21\n",
      "0.6235254866285713 22\n",
      "0.6221135942626739 23\n",
      "0.7114798082792821 24\n",
      "0.6271929049530462 25\n",
      "0.6914117885606821 26\n",
      "0.6245874130616432 27\n",
      "0.6511528532573951 28\n",
      "0.6803574237171263 29\n",
      "0.6012556304920759 30\n",
      "0.6971586108881535 31\n",
      "0.5711398122851741 32\n",
      "0.6732881750150731 33\n",
      "0.5878269652747352 34\n",
      "0.643281002250689 35\n",
      "0.7456564508817636 36\n",
      "0.6754288930878629 37\n",
      "0.6223696480728518 38\n",
      "0.650888359696784 39\n",
      "0.587288240196761 40\n",
      "0.6982148228154783 41\n",
      "0.688020938715048 42\n",
      "0.7006501345011633 43\n",
      "0.5885697707475583 44\n",
      "0.6600842270733245 45\n",
      "0.6645725119739755 46\n",
      "0.6364832068809065 47\n",
      "0.6410326749815507 48\n",
      "0.6504306280408003 49\n",
      "0.6624910147136096 50\n",
      "0.6620958242473847 51\n",
      "0.5907534890374779 52\n",
      "0.6015628745489381 53\n",
      "0.6297161158699491 54\n",
      "0.6058703521536114 55\n",
      "0.6702170553333848 56\n",
      "0.7041925255239239 57\n",
      "0.6880939525243905 58\n",
      "0.6991515619459147 59\n",
      "0.6514434288754646 60\n",
      "0.5415559780426507 61\n",
      "0.6741067672370298 62\n",
      "0.627184622825566 63\n",
      "0.6718518166580223 64\n",
      "0.6118943301348618 65\n",
      "0.6113812439838762 66\n",
      "0.6885782379275951 67\n",
      "0.6425932145544997 68\n",
      "0.5491320296042493 69\n",
      "0.6672462609719296 70\n",
      "0.6237272015347977 71\n",
      "0.6589639180355588 72\n",
      "0.6334602693978291 73\n",
      "0.6757575653496289 74\n",
      "0.6937142045680058 75\n",
      "0.6731004782956209 76\n",
      "0.7078449696557882 77\n",
      "0.5851504445140665 78\n",
      "0.6678139098157767 79\n",
      "0.6723815916732565 80\n",
      "0.6214159973641276 81\n",
      "0.631531549457373 82\n",
      "0.7072636238585863 83\n",
      "0.6137321621805993 84\n",
      "0.6418569727323739 85\n",
      "0.6738683111364928 86\n",
      "0.6730195457941102 87\n",
      "0.6505634708452989 88\n",
      "0.6785844007275128 89\n",
      "0.6609736052149642 90\n",
      "0.6874538848417948 91\n",
      "0.5518243042036424 92\n",
      "0.6307501161530082 93\n",
      "0.6346155099283172 94\n",
      "0.6250806070043291 95\n",
      "0.6983057790817218 96\n",
      "0.6505289438853565 97\n",
      "0.7037743987442027 98\n",
      "0.6398763191639942 99\n"
     ]
    }
   ],
   "source": [
    "# Finding the random state at which model has highest accuracy\n",
    "scores=[]\n",
    "for i in range(100):\n",
    "    X_train,X_test, y_train,y_test=train_test_split(X,y,test_size = 0.2, random_state=i)\n",
    "    lr = LinearRegression()\n",
    "    pipe = make_pipeline(column_trans, lr)\n",
    "    pipe.fit(X_train, y_train)\n",
    "    y_pred=pipe.predict(X_test)\n",
    "    scores.append(r2_score(y_test,y_pred))\n",
    "    print(r2_score(y_test,y_pred), i)"
   ]
  },
  {
   "cell_type": "code",
   "execution_count": 560,
   "id": "d76ac642",
   "metadata": {},
   "outputs": [
    {
     "data": {
      "text/plain": [
       "36"
      ]
     },
     "execution_count": 560,
     "metadata": {},
     "output_type": "execute_result"
    }
   ],
   "source": [
    "np.argmax(scores)"
   ]
  },
  {
   "cell_type": "code",
   "execution_count": 561,
   "id": "334adf3e",
   "metadata": {},
   "outputs": [
    {
     "data": {
      "text/plain": [
       "0.7456564508817636"
      ]
     },
     "execution_count": 561,
     "metadata": {},
     "output_type": "execute_result"
    }
   ],
   "source": [
    "scores[np.argmax(scores)]"
   ]
  },
  {
   "cell_type": "code",
   "execution_count": 562,
   "id": "ab856df4",
   "metadata": {},
   "outputs": [
    {
     "data": {
      "text/plain": [
       "0.7456564508817636"
      ]
     },
     "execution_count": 562,
     "metadata": {},
     "output_type": "execute_result"
    }
   ],
   "source": [
    "X_train,X_test, y_train,y_test=train_test_split(X,y,test_size = 0.2, random_state=np.argmax(scores))\n",
    "lr = LinearRegression()\n",
    "pipe = make_pipeline(column_trans, lr)\n",
    "pipe.fit(X_train, y_train)\n",
    "y_pred=pipe.predict(X_test)\n",
    "r2_score(y_test,y_pred)"
   ]
  },
  {
   "cell_type": "code",
   "execution_count": 563,
   "id": "1a9e6069",
   "metadata": {},
   "outputs": [
    {
     "data": {
      "text/plain": [
       "0.7456564508817636"
      ]
     },
     "execution_count": 563,
     "metadata": {},
     "output_type": "execute_result"
    }
   ],
   "source": [
    "ohe = OneHotEncoder()\n",
    "ohe.fit(x[['fuel','transmission','owner','Brand_name','seller_type']])\n",
    "ohe.categories_\n",
    "column_trans = make_column_transformer((OneHotEncoder(categories = ohe.categories_),['fuel','transmission','owner','Brand_name','seller_type']),\n",
    "                                       remainder = 'passthrough')\n",
    "lr = LinearRegression()\n",
    "pipe = make_pipeline(column_trans, lr)\n",
    "pipe.fit(X_train, y_train)\n",
    "y_pred =pipe.predict(X_test)\n",
    "r2_score(y_test,y_pred)"
   ]
  },
  {
   "cell_type": "code",
   "execution_count": 564,
   "id": "e6ab8642",
   "metadata": {},
   "outputs": [
    {
     "data": {
      "text/html": [
       "<div>\n",
       "<style scoped>\n",
       "    .dataframe tbody tr th:only-of-type {\n",
       "        vertical-align: middle;\n",
       "    }\n",
       "\n",
       "    .dataframe tbody tr th {\n",
       "        vertical-align: top;\n",
       "    }\n",
       "\n",
       "    .dataframe thead th {\n",
       "        text-align: right;\n",
       "    }\n",
       "</style>\n",
       "<table border=\"1\" class=\"dataframe\">\n",
       "  <thead>\n",
       "    <tr style=\"text-align: right;\">\n",
       "      <th></th>\n",
       "      <th>Brand_name</th>\n",
       "      <th>year</th>\n",
       "      <th>selling_price</th>\n",
       "      <th>km_driven</th>\n",
       "      <th>fuel</th>\n",
       "      <th>seller_type</th>\n",
       "      <th>transmission</th>\n",
       "      <th>owner</th>\n",
       "    </tr>\n",
       "  </thead>\n",
       "  <tbody>\n",
       "    <tr>\n",
       "      <th>0</th>\n",
       "      <td>Maruti</td>\n",
       "      <td>2007</td>\n",
       "      <td>60000</td>\n",
       "      <td>70000</td>\n",
       "      <td>Petrol</td>\n",
       "      <td>Individual</td>\n",
       "      <td>Manual</td>\n",
       "      <td>First Owner</td>\n",
       "    </tr>\n",
       "    <tr>\n",
       "      <th>1</th>\n",
       "      <td>Maruti</td>\n",
       "      <td>2007</td>\n",
       "      <td>135000</td>\n",
       "      <td>50000</td>\n",
       "      <td>Petrol</td>\n",
       "      <td>Individual</td>\n",
       "      <td>Manual</td>\n",
       "      <td>First Owner</td>\n",
       "    </tr>\n",
       "    <tr>\n",
       "      <th>2</th>\n",
       "      <td>Hyundai</td>\n",
       "      <td>2012</td>\n",
       "      <td>600000</td>\n",
       "      <td>100000</td>\n",
       "      <td>Diesel</td>\n",
       "      <td>Individual</td>\n",
       "      <td>Manual</td>\n",
       "      <td>First Owner</td>\n",
       "    </tr>\n",
       "    <tr>\n",
       "      <th>3</th>\n",
       "      <td>Datsun</td>\n",
       "      <td>2017</td>\n",
       "      <td>250000</td>\n",
       "      <td>46000</td>\n",
       "      <td>Petrol</td>\n",
       "      <td>Individual</td>\n",
       "      <td>Manual</td>\n",
       "      <td>First Owner</td>\n",
       "    </tr>\n",
       "    <tr>\n",
       "      <th>4</th>\n",
       "      <td>Maruti</td>\n",
       "      <td>2007</td>\n",
       "      <td>140000</td>\n",
       "      <td>125000</td>\n",
       "      <td>Petrol</td>\n",
       "      <td>Individual</td>\n",
       "      <td>Manual</td>\n",
       "      <td>First Owner</td>\n",
       "    </tr>\n",
       "  </tbody>\n",
       "</table>\n",
       "</div>"
      ],
      "text/plain": [
       "  Brand_name  year  selling_price  km_driven    fuel seller_type transmission  \\\n",
       "0     Maruti  2007          60000      70000  Petrol  Individual       Manual   \n",
       "1     Maruti  2007         135000      50000  Petrol  Individual       Manual   \n",
       "2    Hyundai  2012         600000     100000  Diesel  Individual       Manual   \n",
       "3     Datsun  2017         250000      46000  Petrol  Individual       Manual   \n",
       "4     Maruti  2007         140000     125000  Petrol  Individual       Manual   \n",
       "\n",
       "         owner  \n",
       "0  First Owner  \n",
       "1  First Owner  \n",
       "2  First Owner  \n",
       "3  First Owner  \n",
       "4  First Owner  "
      ]
     },
     "execution_count": 564,
     "metadata": {},
     "output_type": "execute_result"
    }
   ],
   "source": [
    "df.head()"
   ]
  },
  {
   "cell_type": "code",
   "execution_count": null,
   "id": "3130677b",
   "metadata": {},
   "outputs": [],
   "source": []
  },
  {
   "cell_type": "code",
   "execution_count": 565,
   "id": "aac55594",
   "metadata": {},
   "outputs": [],
   "source": [
    "## Save The Model\n",
    "#import pickle\n",
    "#pickle.dump(pipe,open('lr.pkl','wb'))\n",
    "#pickle.dump(df,open('df.pkl','wb'))\n",
    "#pipe.predict(pd.DataFrame([[2007,50000,'Petrol','Manual','First Owner','Maruti Wagon']],columns=['year','km_driven','fuel','transmission','owner','seller_type']))\n",
    "#df5.columns\n",
    "#pipe.predict(pd.DataFrame([[1992,50000,'Petrol','Manual','First Owner','Maruti','800']],columns=['year','km_driven','fuel','transmission','owner','brand','names']))"
   ]
  },
  {
   "cell_type": "code",
   "execution_count": 566,
   "id": "dgWkIOLVzzeA",
   "metadata": {
    "id": "dgWkIOLVzzeA"
   },
   "outputs": [],
   "source": [
    "import pickle"
   ]
  },
  {
   "cell_type": "code",
   "execution_count": 567,
   "id": "O1qpgiRPz7_D",
   "metadata": {
    "id": "O1qpgiRPz7_D"
   },
   "outputs": [],
   "source": [
    "# Save object to a pickle file\n",
    "with open(\"pipeline_fit01.pkl\", \"wb\") as file:\n",
    "    pickle.dump(pipe.fit, file)\n",
    "\n",
    "# Load object from pickle file\n",
    "with open(\"pipeline_fit01.pkl\", \"rb\") as file:\n",
    "    loaded_object = pickle.load(file)\n"
   ]
  },
  {
   "cell_type": "code",
   "execution_count": 568,
   "id": "ubF2R6DS0b_v",
   "metadata": {
    "colab": {
     "base_uri": "https://localhost:8080/"
    },
    "id": "ubF2R6DS0b_v",
    "outputId": "7b4c08b3-82f0-4c98-cd26-c5b85da20b79"
   },
   "outputs": [
    {
     "name": "stdout",
     "output_type": "stream",
     "text": [
      "<class 'method'>\n"
     ]
    }
   ],
   "source": [
    "print(type(loaded_object))"
   ]
  },
  {
   "cell_type": "code",
   "execution_count": 569,
   "id": "2afc39b8",
   "metadata": {},
   "outputs": [],
   "source": [
    "pickle.dump(df,open('car_details_data.pkl','wb'))"
   ]
  },
  {
   "cell_type": "code",
   "execution_count": 570,
   "id": "rfGjFMQJ0jyn",
   "metadata": {
    "id": "rfGjFMQJ0jyn"
   },
   "outputs": [],
   "source": [
    "pickle.dump(df,open('pipe.pkl','wb'))"
   ]
  },
  {
   "cell_type": "code",
   "execution_count": 571,
   "id": "TTYDFh_C0nUC",
   "metadata": {
    "id": "TTYDFh_C0nUC"
   },
   "outputs": [],
   "source": [
    "# Save the pipeline object to a file\n",
    "with open('pipeline.fit.pkl', 'wb') as f:\n",
    "    pickle.dump(pipe.fit, f)"
   ]
  },
  {
   "cell_type": "code",
   "execution_count": 572,
   "id": "UflPHDgC0umI",
   "metadata": {
    "id": "UflPHDgC0umI"
   },
   "outputs": [],
   "source": [
    "loaded_model = pickle.load(open('pipeline.fit.pkl','rb'))"
   ]
  },
  {
   "cell_type": "code",
   "execution_count": 573,
   "id": "L4YFLKp800_w",
   "metadata": {
    "id": "L4YFLKp800_w"
   },
   "outputs": [],
   "source": [
    "# Load the saved pipeline object from the file\n",
    "with open('pipeline.fit.pkl', 'rb') as f:\n",
    "    loaded_pipeline = pickle.load(f)"
   ]
  },
  {
   "cell_type": "code",
   "execution_count": 574,
   "id": "cZw_jXKD07uE",
   "metadata": {
    "colab": {
     "base_uri": "https://localhost:8080/",
     "height": 676
    },
    "id": "cZw_jXKD07uE",
    "outputId": "e8b9ca90-20b1-4065-c763-753badcf6f78"
   },
   "outputs": [
    {
     "data": {
      "text/html": [
       "<div>\n",
       "<style scoped>\n",
       "    .dataframe tbody tr th:only-of-type {\n",
       "        vertical-align: middle;\n",
       "    }\n",
       "\n",
       "    .dataframe tbody tr th {\n",
       "        vertical-align: top;\n",
       "    }\n",
       "\n",
       "    .dataframe thead th {\n",
       "        text-align: right;\n",
       "    }\n",
       "</style>\n",
       "<table border=\"1\" class=\"dataframe\">\n",
       "  <thead>\n",
       "    <tr style=\"text-align: right;\">\n",
       "      <th></th>\n",
       "      <th>Brand_name</th>\n",
       "      <th>year</th>\n",
       "      <th>km_driven</th>\n",
       "      <th>fuel</th>\n",
       "      <th>seller_type</th>\n",
       "      <th>transmission</th>\n",
       "      <th>owner</th>\n",
       "    </tr>\n",
       "  </thead>\n",
       "  <tbody>\n",
       "    <tr>\n",
       "      <th>2596</th>\n",
       "      <td>Honda</td>\n",
       "      <td>2013</td>\n",
       "      <td>90000</td>\n",
       "      <td>Diesel</td>\n",
       "      <td>Individual</td>\n",
       "      <td>Manual</td>\n",
       "      <td>Second Owner</td>\n",
       "    </tr>\n",
       "    <tr>\n",
       "      <th>718</th>\n",
       "      <td>Volkswagen</td>\n",
       "      <td>2013</td>\n",
       "      <td>44049</td>\n",
       "      <td>Diesel</td>\n",
       "      <td>Dealer</td>\n",
       "      <td>Manual</td>\n",
       "      <td>First Owner</td>\n",
       "    </tr>\n",
       "    <tr>\n",
       "      <th>1410</th>\n",
       "      <td>Audi</td>\n",
       "      <td>2015</td>\n",
       "      <td>35000</td>\n",
       "      <td>Diesel</td>\n",
       "      <td>Individual</td>\n",
       "      <td>Automatic</td>\n",
       "      <td>Third Owner</td>\n",
       "    </tr>\n",
       "    <tr>\n",
       "      <th>1827</th>\n",
       "      <td>Volkswagen</td>\n",
       "      <td>2011</td>\n",
       "      <td>90000</td>\n",
       "      <td>Diesel</td>\n",
       "      <td>Individual</td>\n",
       "      <td>Manual</td>\n",
       "      <td>Third Owner</td>\n",
       "    </tr>\n",
       "    <tr>\n",
       "      <th>4195</th>\n",
       "      <td>Maruti</td>\n",
       "      <td>2007</td>\n",
       "      <td>80000</td>\n",
       "      <td>Petrol</td>\n",
       "      <td>Individual</td>\n",
       "      <td>Manual</td>\n",
       "      <td>Third Owner</td>\n",
       "    </tr>\n",
       "    <tr>\n",
       "      <th>1233</th>\n",
       "      <td>Hyundai</td>\n",
       "      <td>2013</td>\n",
       "      <td>66000</td>\n",
       "      <td>Petrol</td>\n",
       "      <td>Individual</td>\n",
       "      <td>Manual</td>\n",
       "      <td>First Owner</td>\n",
       "    </tr>\n",
       "    <tr>\n",
       "      <th>3820</th>\n",
       "      <td>Chevrolet</td>\n",
       "      <td>2012</td>\n",
       "      <td>42000</td>\n",
       "      <td>Diesel</td>\n",
       "      <td>Dealer</td>\n",
       "      <td>Automatic</td>\n",
       "      <td>First Owner</td>\n",
       "    </tr>\n",
       "    <tr>\n",
       "      <th>2120</th>\n",
       "      <td>Hyundai</td>\n",
       "      <td>2011</td>\n",
       "      <td>58000</td>\n",
       "      <td>Petrol</td>\n",
       "      <td>Dealer</td>\n",
       "      <td>Manual</td>\n",
       "      <td>Second Owner</td>\n",
       "    </tr>\n",
       "    <tr>\n",
       "      <th>1509</th>\n",
       "      <td>Maruti</td>\n",
       "      <td>2015</td>\n",
       "      <td>170000</td>\n",
       "      <td>Diesel</td>\n",
       "      <td>Individual</td>\n",
       "      <td>Manual</td>\n",
       "      <td>Second Owner</td>\n",
       "    </tr>\n",
       "    <tr>\n",
       "      <th>1628</th>\n",
       "      <td>Volkswagen</td>\n",
       "      <td>2012</td>\n",
       "      <td>97000</td>\n",
       "      <td>Diesel</td>\n",
       "      <td>Individual</td>\n",
       "      <td>Manual</td>\n",
       "      <td>First Owner</td>\n",
       "    </tr>\n",
       "  </tbody>\n",
       "</table>\n",
       "</div>"
      ],
      "text/plain": [
       "      Brand_name  year  km_driven    fuel seller_type transmission  \\\n",
       "2596       Honda  2013      90000  Diesel  Individual       Manual   \n",
       "718   Volkswagen  2013      44049  Diesel      Dealer       Manual   \n",
       "1410        Audi  2015      35000  Diesel  Individual    Automatic   \n",
       "1827  Volkswagen  2011      90000  Diesel  Individual       Manual   \n",
       "4195      Maruti  2007      80000  Petrol  Individual       Manual   \n",
       "1233     Hyundai  2013      66000  Petrol  Individual       Manual   \n",
       "3820   Chevrolet  2012      42000  Diesel      Dealer    Automatic   \n",
       "2120     Hyundai  2011      58000  Petrol      Dealer       Manual   \n",
       "1509      Maruti  2015     170000  Diesel  Individual       Manual   \n",
       "1628  Volkswagen  2012      97000  Diesel  Individual       Manual   \n",
       "\n",
       "             owner  \n",
       "2596  Second Owner  \n",
       "718    First Owner  \n",
       "1410   Third Owner  \n",
       "1827   Third Owner  \n",
       "4195   Third Owner  \n",
       "1233   First Owner  \n",
       "3820   First Owner  \n",
       "2120  Second Owner  \n",
       "1509  Second Owner  \n",
       "1628   First Owner  "
      ]
     },
     "execution_count": 574,
     "metadata": {},
     "output_type": "execute_result"
    }
   ],
   "source": [
    "new_df = x.sample(10)\n",
    "new_df"
   ]
  },
  {
   "cell_type": "code",
   "execution_count": 575,
   "id": "tO7W4Ycq1EVd",
   "metadata": {
    "colab": {
     "base_uri": "https://localhost:8080/"
    },
    "id": "tO7W4Ycq1EVd",
    "outputId": "1c74c47d-4d54-412a-e2e7-452a82c9f454"
   },
   "outputs": [
    {
     "name": "stdout",
     "output_type": "stream",
     "text": [
      "<class 'method'>\n"
     ]
    }
   ],
   "source": [
    "print(type(loaded_pipeline))"
   ]
  },
  {
   "cell_type": "code",
   "execution_count": 576,
   "id": "eXMVukvL1HlA",
   "metadata": {
    "id": "eXMVukvL1HlA"
   },
   "outputs": [],
   "source": [
    "#predict_price = loaded_pipeline.predict(new_df)"
   ]
  },
  {
   "cell_type": "code",
   "execution_count": 577,
   "id": "BWaTYTbx1K-w",
   "metadata": {
    "colab": {
     "base_uri": "https://localhost:8080/",
     "height": 676
    },
    "id": "BWaTYTbx1K-w",
    "outputId": "fe7833f3-bde3-4d6e-eae7-03b59fab55ff"
   },
   "outputs": [],
   "source": [
    "#new_df['predict_price']= predict_price\n",
    "#new_df.head(20)"
   ]
  },
  {
   "cell_type": "code",
   "execution_count": null,
   "id": "b8574d3b",
   "metadata": {},
   "outputs": [],
   "source": []
  }
 ],
 "metadata": {
  "colab": {
   "provenance": []
  },
  "kernelspec": {
   "display_name": "Python 3 (ipykernel)",
   "language": "python",
   "name": "python3"
  },
  "language_info": {
   "codemirror_mode": {
    "name": "ipython",
    "version": 3
   },
   "file_extension": ".py",
   "mimetype": "text/x-python",
   "name": "python",
   "nbconvert_exporter": "python",
   "pygments_lexer": "ipython3",
   "version": "3.9.12"
  }
 },
 "nbformat": 4,
 "nbformat_minor": 5
}
